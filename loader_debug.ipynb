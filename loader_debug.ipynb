{
 "cells": [
  {
   "cell_type": "code",
   "execution_count": 1,
   "metadata": {},
   "outputs": [
    {
     "name": "stdout",
     "output_type": "stream",
     "text": [
      "['/home/azuma/workspace/git/lead-sheet-dataset/datasets/xml/a/a-love-like-pi/heavens-halberd/verse.xml', '/home/azuma/workspace/git/lead-sheet-dataset/datasets/xml/a/aesop-rock/daylight/instrumental.xml', '/home/azuma/workspace/git/lead-sheet-dataset/datasets/xml/a/astor-piazzolla/libertango/chorus.xml']\n"
     ]
    }
   ],
   "source": [
    "from xml_to_mid import xml_to_mid, get_list_extension\n",
    "\n",
    "folder = '/home/azuma/workspace/git/lead-sheet-dataset/datasets/xml/a'\n",
    "\n",
    "list_all_xml = get_list_extension(folder, 'xml')\n",
    "samples = list_all_xml[:3]\n",
    "print(samples)"
   ]
  },
  {
   "cell_type": "code",
   "execution_count": 2,
   "metadata": {},
   "outputs": [
    {
     "ename": "NameError",
     "evalue": "name 'proc_midi_to_pianoroll' is not defined",
     "output_type": "error",
     "traceback": [
      "\u001b[0;31m---------------------------------------------------------------------------\u001b[0m",
      "\u001b[0;31mNameError\u001b[0m                                 Traceback (most recent call last)",
      "\u001b[0;32m<ipython-input-2-77ad85d7ef62>\u001b[0m in \u001b[0;36m<module>\u001b[0;34m\u001b[0m\n\u001b[1;32m      6\u001b[0m \u001b[0;34m\u001b[0m\u001b[0m\n\u001b[1;32m      7\u001b[0m \u001b[0;32mfor\u001b[0m \u001b[0mi\u001b[0m \u001b[0;32min\u001b[0m \u001b[0mrange\u001b[0m\u001b[0;34m(\u001b[0m\u001b[0;36m3\u001b[0m\u001b[0;34m)\u001b[0m\u001b[0;34m:\u001b[0m\u001b[0;34m\u001b[0m\u001b[0;34m\u001b[0m\u001b[0m\n\u001b[0;32m----> 8\u001b[0;31m     \u001b[0mpianoroll\u001b[0m \u001b[0;34m=\u001b[0m \u001b[0mproc_midi_to_pianoroll\u001b[0m\u001b[0;34m(\u001b[0m\u001b[0mos\u001b[0m\u001b[0;34m.\u001b[0m\u001b[0mpath\u001b[0m\u001b[0;34m.\u001b[0m\u001b[0mjoin\u001b[0m\u001b[0;34m(\u001b[0m\u001b[0msave_path\u001b[0m\u001b[0;34m,\u001b[0m \u001b[0mstr\u001b[0m\u001b[0;34m(\u001b[0m\u001b[0mi\u001b[0m\u001b[0;34m)\u001b[0m \u001b[0;34m+\u001b[0m \u001b[0;34m'.mid'\u001b[0m\u001b[0;34m)\u001b[0m\u001b[0;34m,\u001b[0m \u001b[0;36m60\u001b[0m\u001b[0;34m)\u001b[0m\u001b[0;34m\u001b[0m\u001b[0;34m\u001b[0m\u001b[0m\n\u001b[0m\u001b[1;32m      9\u001b[0m     \u001b[0mpianoroll\u001b[0m\u001b[0;34m.\u001b[0m\u001b[0mplot\u001b[0m\u001b[0;34m(\u001b[0m\u001b[0;34m)\u001b[0m\u001b[0;34m\u001b[0m\u001b[0;34m\u001b[0m\u001b[0m\n\u001b[1;32m     10\u001b[0m     \u001b[0mplt\u001b[0m\u001b[0;34m.\u001b[0m\u001b[0mshow\u001b[0m\u001b[0;34m(\u001b[0m\u001b[0;34m)\u001b[0m\u001b[0;34m\u001b[0m\u001b[0;34m\u001b[0m\u001b[0m\n",
      "\u001b[0;31mNameError\u001b[0m: name 'proc_midi_to_pianoroll' is not defined"
     ]
    }
   ],
   "source": [
    "%matplotlib inline\n",
    "import matplotlib.pyplot as plt\n",
    "\n",
    "save_path = './dataset'\n",
    "xml_to_mid(samples, save_path)\n",
    "\n",
    "for i in range(3):\n",
    "    pianoroll = proc_midi_to_pianoroll(os.path.join(save_path, str(i) + '.mid'), 60)\n",
    "    pianoroll.plot()\n",
    "    plt.show()\n",
    "    \n",
    "plt.close()"
   ]
  },
  {
   "cell_type": "code",
   "execution_count": 10,
   "metadata": {},
   "outputs": [],
   "source": [
    "def generate_dict_time_notes(list_all_midi, batch_song = 3, start_index=0, fs=30, use_tqdm=True):\n",
    "    assert len(list_all_midi) >= batch_song\n",
    "    \n",
    "    dict_time_notes = {}\n",
    "    process_midi = range(start_index,  min(start_index + batch_song, len(list_all_midi)) )\n",
    "    \n",
    "    for i in process_midi:\n",
    "        midi_file_name = list_all_midi[i]\n",
    "        print(midi_file_name)\n",
    "        try: # Handle exception on malformat MIDI files\n",
    "            midi_pretty_format = pretty_midi.PrettyMIDI(midi_file_name)\n",
    "            piano_midi = midi_pretty_format.instruments[0] # Get the piano channels\n",
    "            piano_roll = piano_midi.get_piano_roll(fs=fs)\n",
    "            \n",
    "            name = int(midi_file_name.split('.')[0])\n",
    "            dict_time_notes[name] = piano_roll\n",
    "        except Exception as e:\n",
    "            print(e)\n",
    "            print(\"broken file : {}\".format(midi_file_name))\n",
    "            pass\n",
    "    return dict_time_notes"
   ]
  },
  {
   "cell_type": "code",
   "execution_count": 11,
   "metadata": {},
   "outputs": [
    {
     "name": "stdout",
     "output_type": "stream",
     "text": [
      "[['dm', 0.0, 1.9047619047619047], ['dm', 1.9047619047619047, 3.8095238095238093], ['am', 3.8095238095238093, 5.7142857142857135], ['am', 5.7142857142857135, 7.619047619047619], ['F', 7.619047619047619, 9.523809523809524], ['F', 9.523809523809524, 11.428571428571427], ['C', 11.428571428571427, 13.333333333333332], ['C', 13.333333333333332, 15.238095238095237]]\n"
     ]
    }
   ],
   "source": [
    "import pickle\n",
    "f = open(str(0) + \".chord\",\"rb\")\n",
    "list_row = pickle.load(f)\n",
    "\n",
    "print(list_row)"
   ]
  },
  {
   "cell_type": "code",
   "execution_count": 12,
   "metadata": {},
   "outputs": [
    {
     "name": "stdout",
     "output_type": "stream",
     "text": [
      "2.mid\n",
      "0.mid\n",
      "1.mid\n",
      "dict_keys([2, 0, 1])\n"
     ]
    },
    {
     "data": {
      "image/png": "[encoded data removed]",
      "text/plain": [
       "<Figure size 432x288 with 1 Axes>"
      ]
     },
     "metadata": {
      "needs_background": "light"
     },
     "output_type": "display_data"
    },
    {
     "data": {
      "image/png": "[encoded data removed]",
      "text/plain": [
       "<Figure size 432x288 with 1 Axes>"
      ]
     },
     "metadata": {
      "needs_background": "light"
     },
     "output_type": "display_data"
    },
    {
     "data": {
      "image/png": "[encoded data removed]",
      "text/plain": [
       "<Figure size 432x288 with 1 Axes>"
      ]
     },
     "metadata": {
      "needs_background": "light"
     },
     "output_type": "display_data"
    }
   ],
   "source": [
    "midi_list = glob.glob(\"*.mid\") \n",
    "dict_time_notes = generate_dict_time_notes(midi_list)\n",
    "print(dict_time_notes.keys())\n",
    "\n",
    "plt.imshow(dict_time_notes[0])\n",
    "plt.show()\n",
    "plt.imshow(dict_time_notes[1])\n",
    "plt.show()\n",
    "plt.imshow(dict_time_notes[2])\n",
    "plt.show()"
   ]
  },
  {
   "cell_type": "code",
   "execution_count": 15,
   "metadata": {},
   "outputs": [
    {
     "name": "stdout",
     "output_type": "stream",
     "text": [
      "(128, 371)\n",
      "458\n",
      "(128, 306)\n",
      "307\n",
      "(128, 752)\n",
      "753\n"
     ]
    }
   ],
   "source": [
    "def create_list_time_chord(chord_symbols, fs=30):\n",
    "     \n",
    "    chord_list = []\n",
    "    for chord_info in chord_symbols:\n",
    "        # get upper code of oncode\n",
    "        # Todo: use regular expression\n",
    "        if '|' in chord_info[0]:\n",
    "            chord = chord_info[0].split('|')[0]\n",
    "        elif ' ' in chord_info[0]:\n",
    "            chord = chord_info[0].split(' ')[0]\n",
    "        else:\n",
    "            chord = chord_info[0]\n",
    "        chord_list.append(chord)\n",
    "        \n",
    "    counter = 0\n",
    "    list_time_chord = []\n",
    "    for i in range(len(chord_symbols)):\n",
    "        while True:\n",
    "            list_time_chord.append(chord_list[i])\n",
    "            counter += 1\n",
    "            if counter > int(chord_symbols[i][2] * fs):\n",
    "                break\n",
    "\n",
    "    return list_time_chord\n",
    "\n",
    "\n",
    "import pickle\n",
    "list_chord_symbols = []\n",
    "for i in range(3):\n",
    "    with open(str(i) + \".chord\",\"rb\") as f:\n",
    "        list_chord_symbols.append((pickle.load(f)))\n",
    "\n",
    "print(dict_time_notes[0].shape)\n",
    "list_time_chord_0 = create_list_time_chord(list_chord_symbols[0])\n",
    "print(len(list_time_chord_0))\n",
    "\n",
    "print(dict_time_notes[1].shape)\n",
    "list_time_chord_1 = create_list_time_chord(list_chord_symbols[1])\n",
    "print(len(list_time_chord_1))\n",
    "\n",
    "print(dict_time_notes[2].shape)\n",
    "list_time_chord_2 = create_list_time_chord(list_chord_symbols[2])\n",
    "print(len(list_time_chord_2))"
   ]
  },
  {
   "cell_type": "code",
   "execution_count": 14,
   "metadata": {},
   "outputs": [
    {
     "name": "stdout",
     "output_type": "stream",
     "text": [
      "[['dm', 0.0, 1.9047619047619047], ['dm', 1.9047619047619047, 3.8095238095238093], ['am', 3.8095238095238093, 5.7142857142857135], ['am', 5.7142857142857135, 7.619047619047619], ['F', 7.619047619047619, 9.523809523809524], ['F', 9.523809523809524, 11.428571428571427], ['C', 11.428571428571427, 13.333333333333332], ['C', 13.333333333333332, 15.238095238095237]]\n"
     ]
    }
   ],
   "source": [
    "print(list_chord_symbols[0])"
   ]
  },
  {
   "cell_type": "code",
   "execution_count": 44,
   "metadata": {},
   "outputs": [
    {
     "data": {
      "text/plain": [
       "[['am', 0.0, 3.1372549019607843],\n",
       " ['B7 | A', 3.1372549019607843, 6.2745098039215685],\n",
       " ['am sus42', 6.2745098039215685, 9.411764705882353],\n",
       " ['am', 9.411764705882353, 12.549019607843137],\n",
       " ['C | G', 12.549019607843137, 15.686274509803921],\n",
       " ['B | Gb', 15.686274509803921, 18.823529411764707],\n",
       " ['bo | F', 18.823529411764707, 21.96078431372549],\n",
       " ['E7', 21.96078431372549, 25.098039215686274]]"
      ]
     },
     "execution_count": 44,
     "metadata": {},
     "output_type": "execute_result"
    }
   ],
   "source": [
    "chord_symbols"
   ]
  },
  {
   "cell_type": "code",
   "execution_count": 45,
   "metadata": {},
   "outputs": [
    {
     "name": "stdout",
     "output_type": "stream",
     "text": [
      "['am', 'B7 ', 'am', 'am', 'C ', 'B ', 'bo ', 'E7']\n"
     ]
    }
   ],
   "source": [
    "fs = 30\n",
    "start = 0.0\n",
    "end = chord_symbols[-1][-1]\n",
    "\n",
    "chord_list = []\n",
    "\n",
    "for chord_info in chord_symbols:\n",
    "    \n",
    "    # get upper code of oncode\n",
    "    # Todo: use regular expression\n",
    "    if '|' in chord_info[0]:\n",
    "        chord = chord_info[0].split('|')[0]\n",
    "    elif ' ' in chord_info[0]:\n",
    "        chord = chord_info[0].split(' ')[0]\n",
    "    else:\n",
    "        chord = chord_info[0]\n",
    "    \n",
    "    chord_list.append(chord)\n",
    "    \n",
    "print(chord_list)"
   ]
  },
  {
   "cell_type": "code",
   "execution_count": 31,
   "metadata": {},
   "outputs": [],
   "source": [
    "counter = 0\n",
    "chord_data = []\n",
    "for i in range(len(chord_symbols)):\n",
    "    \n",
    "    while True:\n",
    "        chord_data.append(chord_list[i])\n",
    "        counter += 1\n",
    "        if counter > int(chord_symbols[i][2] * fs):\n",
    "            break\n",
    "    \n",
    "    \n",
    "    "
   ]
  },
  {
   "cell_type": "code",
   "execution_count": 33,
   "metadata": {},
   "outputs": [
    {
     "name": "stdout",
     "output_type": "stream",
     "text": [
      "753\n"
     ]
    }
   ],
   "source": [
    "print(len(chord_data))"
   ]
  },
  {
   "cell_type": "code",
   "execution_count": null,
   "metadata": {},
   "outputs": [],
   "source": []
  }
 ],
 "metadata": {
  "kernelspec": {
   "display_name": "Python 3",
   "language": "python",
   "name": "python3"
  },
  "language_info": {
   "codemirror_mode": {
    "name": "ipython",
    "version": 3
   },
   "file_extension": ".py",
   "mimetype": "text/x-python",
   "name": "python",
   "nbconvert_exporter": "python",
   "pygments_lexer": "ipython3",
   "version": "3.7.3"
  }
 },
 "nbformat": 4,
 "nbformat_minor": 2
}
